{
 "cells": [
  {
   "cell_type": "markdown",
   "metadata": {},
   "source": [
    "## Homework II for ISDN6380B\n",
    "\n",
    "Siyan HU, student no. 12217679"
   ]
  },
  {
   "cell_type": "markdown",
   "metadata": {},
   "source": [
    "### 1. Load Dataset and Generate Labels"
   ]
  },
  {
   "cell_type": "code",
   "execution_count": 6,
   "metadata": {},
   "outputs": [],
   "source": [
    "import sys\n",
    "import os\n",
    "import random\n",
    "\n",
    "cwd = os.getcwd()\n",
    "sys.path.append(cwd)\n",
    "\n",
    "import file_io as fio"
   ]
  },
  {
   "cell_type": "markdown",
   "metadata": {},
   "source": [
    "Load dataset"
   ]
  },
  {
   "cell_type": "code",
   "execution_count": 9,
   "metadata": {},
   "outputs": [],
   "source": [
    "full_image_folder = fio.createPath(fio.sep, [cwd, 'data', 'images'])\n",
    "full_image_paths = fio.traverse_dir(full_image_folder, full_path=True, towards_sub=False)\n",
    "full_image_paths = fio.filter_ext(filepath_list=full_image_paths, filter_out_target=False, ext_set=fio.img_ext_set)\n",
    "\n",
    "full_bbox_folder = fio.createPath(fio.sep, [cwd, 'data', 'txt'])\n",
    "full_bbox_paths = fio.traverse_dir(full_bbox_folder, full_path=True, towards_sub=False)\n",
    "full_bbox_paths = fio.filter_ext(filepath_list=full_bbox_paths, filter_out_target=False, ext_set=['txt'])\n",
    "\n",
    "if (len(full_image_paths) == len(full_bbox_paths)) == False:\n",
    "    print(\"ERROR: check files again or add a matching function.\")"
   ]
  },
  {
   "cell_type": "code",
   "execution_count": 25,
   "metadata": {},
   "outputs": [
    {
     "name": "stdout",
     "output_type": "stream",
     "text": [
      "Spliting database: [4, 38, 14, 35, 2, 27, 11, 1, 42, 18, 5, 43, 44, 32, 16, 28, 24, 10, 15, 49, 46, 13, 22, 0, 19, 34, 37, 31, 12, 23, 47, 45, 26, 21, 33, 30, 39, 25, 6, 36, 20, 40, 7, 9, 17, 8] train+validation samples.\n",
      " [16, 34, 0, 35, 31, 40, 14, 43, 7, 20, 47, 32, 27, 23, 36, 9, 37, 26, 25, 18, 12, 49, 42, 6, 19, 24, 39, 28, 21, 30, 22, 33, 8, 1, 38, 2, 4, 45, 5, 46, 10] are pure training data, \n",
      "and [3, 41, 48, 50, 29] testing images\n"
     ]
    }
   ],
   "source": [
    "trainval_base = 1.0\n",
    "trainval_lod = 0.9\n",
    "train_lod = 0.9\n",
    "\n",
    "total_sample_num = len(full_image_paths)\n",
    "list_index = range(total_sample_num)\n",
    "\n",
    "tv_num = round(total_sample_num * trainval_lod)\n",
    "tr_num = round(tv_num * train_lod)\n",
    "\n",
    "trainval_set = random.sample(list_index, tv_num)\n",
    "train_set = random.sample(trainval_set , tr_num)\n",
    "val_set = list(set(trainval_set).difference(set(train_set)))\n",
    "test_set = list(set(list_index).difference(set(trainval_set)))\n",
    "\n",
    "split_dir = fio.createPath(fio.sep, [cwd, 'data', 'dataset'])\n",
    "\n",
    "for i in list_index:\n",
    "    img_path = full_image_paths[i]\n",
    "    if i in trainval_set :\n",
    "        with open(split_dir + fio.sep + 'trainval.txt', 'a+') as file_trainval:\n",
    "            file_trainval.write(img_path + '\\n')\n",
    "        if i in train_set :\n",
    "            with open(split_dir + fio.sep + 'train.txt', 'a+') as file_train:\n",
    "                file_train.write(img_path + '\\n')\n",
    "        else:\n",
    "            with open(split_dir + fio.sep + 'val.txt', 'a+') as file_val:\n",
    "                file_val.write(img_path + '\\n')\n",
    "    else:\n",
    "        with open(split_dir + fio.sep + 'test.txt', 'a+') as file_test:\n",
    "            file_test.write(img_path + '\\n')\n",
    "\n",
    "print(\"Spliting database: {} train+validation samples.\\n {} are pure training data, \\nand {} testing images\".format(trainval_set, train_set, test_set))"
   ]
  },
  {
   "cell_type": "markdown",
   "metadata": {},
   "source": [
    "create yaml"
   ]
  },
  {
   "cell_type": "code",
   "execution_count": 34,
   "metadata": {},
   "outputs": [],
   "source": [
    "yaml_filepath = fio.createPath(fio.sep, [cwd, 'data'], 'chessboard.yaml')\n",
    "with open(yaml_filepath, 'w', encoding='utf-8') as f:\n",
    "    f.write('train: ' + split_dir + fio.sep + 'train.txt' + '\\n')\n",
    "    f.write('val: ' + split_dir + fio.sep + 'val.txt' + '\\n')\n",
    "    f.write('test: ' + split_dir + fio.sep + 'test.txt' + '\\n\\n')\n",
    "    f.write('nc: 1\\n')\n",
    "    f.write('names:\\n')\n",
    "    f.write('  0: chessboard')"
   ]
  },
  {
   "cell_type": "markdown",
   "metadata": {},
   "source": [
    "### 2. Install YOLOv8 and Import\n",
    "\n",
    "conda install pytorch torchvision torchaudio pytorch-cuda=12.1 ultralytics -c pytorch -c nvidia -c conda-forge"
   ]
  },
  {
   "cell_type": "code",
   "execution_count": 41,
   "metadata": {},
   "outputs": [],
   "source": [
    "from ultralytics import YOLO\n",
    "import time"
   ]
  },
  {
   "cell_type": "markdown",
   "metadata": {},
   "source": [
    "### 3. Train YOLOv8"
   ]
  },
  {
   "cell_type": "code",
   "execution_count": 40,
   "metadata": {},
   "outputs": [],
   "source": [
    "def current_timestamp(micro_second=False):\n",
    "    t = time.time()\n",
    "    if micro_second:\n",
    "        return int(t * 1000 * 1000)\n",
    "    else:\n",
    "        return int(t * 1000)"
   ]
  },
  {
   "cell_type": "code",
   "execution_count": 45,
   "metadata": {},
   "outputs": [
    {
     "name": "stdout",
     "output_type": "stream",
     "text": [
      "Transferred 355/355 items from pretrained weights\n",
      "Ultralytics YOLOv8.1.34 🚀 Python-3.9.19 torch-2.2.1 CUDA:0 (NVIDIA GeForce RTX 4090, 24209MiB)\n",
      "\u001b[34m\u001b[1mengine/trainer: \u001b[0mtask=detect, mode=train, model=yolov8n.yaml, data=/home/siyanlinux/Documents/ISDN6380B_Homework/hw2/data/chessboard.yaml, epochs=6, time=None, patience=100, batch=16, imgsz=640, save=True, save_period=-1, cache=False, device=[0], workers=8, project=None, name=train4, exist_ok=False, pretrained=True, optimizer=auto, verbose=True, seed=0, deterministic=True, single_cls=False, rect=False, cos_lr=False, close_mosaic=10, resume=False, amp=True, fraction=1.0, profile=False, freeze=None, multi_scale=False, overlap_mask=True, mask_ratio=4, dropout=0.0, val=True, split=val, save_json=False, save_hybrid=False, conf=None, iou=0.7, max_det=300, half=False, dnn=False, plots=True, source=None, vid_stride=1, stream_buffer=False, visualize=False, augment=False, agnostic_nms=False, classes=None, retina_masks=False, embed=None, show=False, save_frames=False, save_txt=False, save_conf=False, save_crop=False, show_labels=True, show_conf=True, show_boxes=True, line_width=None, format=torchscript, keras=False, optimize=False, int8=False, dynamic=False, simplify=False, opset=None, workspace=4, nms=False, lr0=0.01, lrf=0.01, momentum=0.937, weight_decay=0.0005, warmup_epochs=3.0, warmup_momentum=0.8, warmup_bias_lr=0.1, box=7.5, cls=0.5, dfl=1.5, pose=12.0, kobj=1.0, label_smoothing=0.0, nbs=64, hsv_h=0.015, hsv_s=0.7, hsv_v=0.4, degrees=0.0, translate=0.1, scale=0.5, shear=0.0, perspective=0.0, flipud=0.0, fliplr=0.5, bgr=0.0, mosaic=1.0, mixup=0.0, copy_paste=0.0, auto_augment=randaugment, erasing=0.4, crop_fraction=1.0, cfg=None, tracker=botsort.yaml, save_dir=runs/detect/train4\n",
      "Overriding model.yaml nc=80 with nc=1\n",
      "\n",
      "                   from  n    params  module                                       arguments                     \n",
      "  0                  -1  1       464  ultralytics.nn.modules.conv.Conv             [3, 16, 3, 2]                 \n",
      "  1                  -1  1      4672  ultralytics.nn.modules.conv.Conv             [16, 32, 3, 2]                \n",
      "  2                  -1  1      7360  ultralytics.nn.modules.block.C2f             [32, 32, 1, True]             \n",
      "  3                  -1  1     18560  ultralytics.nn.modules.conv.Conv             [32, 64, 3, 2]                \n",
      "  4                  -1  2     49664  ultralytics.nn.modules.block.C2f             [64, 64, 2, True]             \n",
      "  5                  -1  1     73984  ultralytics.nn.modules.conv.Conv             [64, 128, 3, 2]               \n",
      "  6                  -1  2    197632  ultralytics.nn.modules.block.C2f             [128, 128, 2, True]           \n",
      "  7                  -1  1    295424  ultralytics.nn.modules.conv.Conv             [128, 256, 3, 2]              \n",
      "  8                  -1  1    460288  ultralytics.nn.modules.block.C2f             [256, 256, 1, True]           \n",
      "  9                  -1  1    164608  ultralytics.nn.modules.block.SPPF            [256, 256, 5]                 \n",
      " 10                  -1  1         0  torch.nn.modules.upsampling.Upsample         [None, 2, 'nearest']          \n",
      " 11             [-1, 6]  1         0  ultralytics.nn.modules.conv.Concat           [1]                           \n",
      " 12                  -1  1    148224  ultralytics.nn.modules.block.C2f             [384, 128, 1]                 \n",
      " 13                  -1  1         0  torch.nn.modules.upsampling.Upsample         [None, 2, 'nearest']          \n",
      " 14             [-1, 4]  1         0  ultralytics.nn.modules.conv.Concat           [1]                           \n",
      " 15                  -1  1     37248  ultralytics.nn.modules.block.C2f             [192, 64, 1]                  \n",
      " 16                  -1  1     36992  ultralytics.nn.modules.conv.Conv             [64, 64, 3, 2]                \n",
      " 17            [-1, 12]  1         0  ultralytics.nn.modules.conv.Concat           [1]                           \n",
      " 18                  -1  1    123648  ultralytics.nn.modules.block.C2f             [192, 128, 1]                 \n",
      " 19                  -1  1    147712  ultralytics.nn.modules.conv.Conv             [128, 128, 3, 2]              \n",
      " 20             [-1, 9]  1         0  ultralytics.nn.modules.conv.Concat           [1]                           \n",
      " 21                  -1  1    493056  ultralytics.nn.modules.block.C2f             [384, 256, 1]                 \n",
      " 22        [15, 18, 21]  1    751507  ultralytics.nn.modules.head.Detect           [1, [64, 128, 256]]           \n",
      "YOLOv8n summary: 225 layers, 3011043 parameters, 3011027 gradients\n",
      "\n",
      "Transferred 319/355 items from pretrained weights\n",
      "Freezing layer 'model.22.dfl.conv.weight'\n",
      "\u001b[34m\u001b[1mAMP: \u001b[0mrunning Automatic Mixed Precision (AMP) checks with YOLOv8n...\n",
      "\u001b[34m\u001b[1mAMP: \u001b[0mchecks passed ✅\n"
     ]
    },
    {
     "name": "stderr",
     "output_type": "stream",
     "text": [
      "\u001b[34m\u001b[1mtrain: \u001b[0mScanning /home/siyanlinux/Documents/ISDN6380B_Homework/hw2/data/labels... 0 images, 41 backgrounds, 0 corrupt: 100%|██████████| 41/41 [00:00<00\u001b[0m"
     ]
    },
    {
     "name": "stdout",
     "output_type": "stream",
     "text": [
      "\u001b[34m\u001b[1mtrain: \u001b[0mWARNING ⚠️ No labels found in /home/siyanlinux/Documents/ISDN6380B_Homework/hw2/data/labels.cache. See https://docs.ultralytics.com/datasets/detect for dataset formatting guidance.\n",
      "\u001b[34m\u001b[1mtrain: \u001b[0mNew cache created: /home/siyanlinux/Documents/ISDN6380B_Homework/hw2/data/labels.cache\n",
      "WARNING ⚠️ No labels found in /home/siyanlinux/Documents/ISDN6380B_Homework/hw2/data/labels.cache, training may not work correctly. See https://docs.ultralytics.com/datasets/detect for dataset formatting guidance.\n"
     ]
    },
    {
     "name": "stderr",
     "output_type": "stream",
     "text": [
      "\n",
      "\u001b[34m\u001b[1mval: \u001b[0mScanning /home/siyanlinux/Documents/ISDN6380B_Homework/hw2/data/labels... 0 images, 5 backgrounds, 0 corrupt: 100%|██████████| 5/5 [00:00<00:00, \u001b[0m"
     ]
    },
    {
     "name": "stdout",
     "output_type": "stream",
     "text": [
      "\u001b[34m\u001b[1mval: \u001b[0mWARNING ⚠️ No labels found in /home/siyanlinux/Documents/ISDN6380B_Homework/hw2/data/labels.cache. See https://docs.ultralytics.com/datasets/detect for dataset formatting guidance.\n",
      "\u001b[34m\u001b[1mval: \u001b[0mNew cache created: /home/siyanlinux/Documents/ISDN6380B_Homework/hw2/data/labels.cache\n",
      "WARNING ⚠️ No labels found in /home/siyanlinux/Documents/ISDN6380B_Homework/hw2/data/labels.cache, training may not work correctly. See https://docs.ultralytics.com/datasets/detect for dataset formatting guidance.\n"
     ]
    },
    {
     "name": "stderr",
     "output_type": "stream",
     "text": [
      "\n"
     ]
    },
    {
     "name": "stdout",
     "output_type": "stream",
     "text": [
      "Plotting labels to runs/detect/train4/labels.jpg... \n",
      "zero-size array to reduction operation maximum which has no identity\n",
      "\u001b[34m\u001b[1moptimizer:\u001b[0m 'optimizer=auto' found, ignoring 'lr0=0.01' and 'momentum=0.937' and determining best 'optimizer', 'lr0' and 'momentum' automatically... \n",
      "\u001b[34m\u001b[1moptimizer:\u001b[0m AdamW(lr=0.002, momentum=0.9) with parameter groups 57 weight(decay=0.0), 64 weight(decay=0.0005), 63 bias(decay=0.0)\n",
      "Image sizes 640 train, 640 val\n",
      "Using 8 dataloader workers\n",
      "Logging results to \u001b[1mruns/detect/train4\u001b[0m\n",
      "Starting training for 6 epochs...\n",
      "\n",
      "      Epoch    GPU_mem   box_loss   cls_loss   dfl_loss  Instances       Size\n"
     ]
    },
    {
     "name": "stderr",
     "output_type": "stream",
     "text": [
      "        1/6      2.25G          0      103.2          0          0        640: 100%|██████████| 3/3 [00:00<00:00,  9.81it/s]\n",
      "                 Class     Images  Instances      Box(P          R      mAP50  mAP50-95): 100%|██████████| 1/1 [00:00<00:00, 27.63it/s]"
     ]
    },
    {
     "name": "stdout",
     "output_type": "stream",
     "text": [
      "                   all          5          0          0          0          0          0\n",
      "WARNING ⚠️ no labels found in detect set, can not compute metrics without labels\n"
     ]
    },
    {
     "name": "stderr",
     "output_type": "stream",
     "text": [
      "\n"
     ]
    },
    {
     "name": "stdout",
     "output_type": "stream",
     "text": [
      "\n",
      "      Epoch    GPU_mem   box_loss   cls_loss   dfl_loss  Instances       Size\n"
     ]
    },
    {
     "name": "stderr",
     "output_type": "stream",
     "text": [
      "        2/6      2.45G          0      103.2          0          0        640: 100%|██████████| 3/3 [00:00<00:00, 29.79it/s]\n",
      "                 Class     Images  Instances      Box(P          R      mAP50  mAP50-95): 100%|██████████| 1/1 [00:00<00:00, 86.11it/s]"
     ]
    },
    {
     "name": "stdout",
     "output_type": "stream",
     "text": [
      "                   all          5          0          0          0          0          0\n",
      "WARNING ⚠️ no labels found in detect set, can not compute metrics without labels\n"
     ]
    },
    {
     "name": "stderr",
     "output_type": "stream",
     "text": [
      "\n"
     ]
    },
    {
     "name": "stdout",
     "output_type": "stream",
     "text": [
      "\n",
      "      Epoch    GPU_mem   box_loss   cls_loss   dfl_loss  Instances       Size\n"
     ]
    },
    {
     "name": "stderr",
     "output_type": "stream",
     "text": [
      "        3/6      2.26G          0      103.2          0          0        640: 100%|██████████| 3/3 [00:00<00:00, 29.84it/s]\n",
      "                 Class     Images  Instances      Box(P          R      mAP50  mAP50-95): 100%|██████████| 1/1 [00:00<00:00, 75.47it/s]"
     ]
    },
    {
     "name": "stdout",
     "output_type": "stream",
     "text": [
      "                   all          5          0          0          0          0          0\n",
      "WARNING ⚠️ no labels found in detect set, can not compute metrics without labels\n"
     ]
    },
    {
     "name": "stderr",
     "output_type": "stream",
     "text": [
      "\n"
     ]
    },
    {
     "name": "stdout",
     "output_type": "stream",
     "text": [
      "\n",
      "      Epoch    GPU_mem   box_loss   cls_loss   dfl_loss  Instances       Size\n"
     ]
    },
    {
     "name": "stderr",
     "output_type": "stream",
     "text": [
      "        4/6      2.23G          0      101.4          0          0        640: 100%|██████████| 3/3 [00:00<00:00, 28.54it/s]\n",
      "                 Class     Images  Instances      Box(P          R      mAP50  mAP50-95): 100%|██████████| 1/1 [00:00<00:00, 36.15it/s]"
     ]
    },
    {
     "name": "stdout",
     "output_type": "stream",
     "text": [
      "                   all          5          0          0          0          0          0\n",
      "WARNING ⚠️ no labels found in detect set, can not compute metrics without labels\n"
     ]
    },
    {
     "name": "stderr",
     "output_type": "stream",
     "text": [
      "\n"
     ]
    },
    {
     "name": "stdout",
     "output_type": "stream",
     "text": [
      "\n",
      "      Epoch    GPU_mem   box_loss   cls_loss   dfl_loss  Instances       Size\n"
     ]
    },
    {
     "name": "stderr",
     "output_type": "stream",
     "text": [
      "        5/6      2.23G          0      100.1          0          0        640: 100%|██████████| 3/3 [00:00<00:00, 26.80it/s]\n",
      "                 Class     Images  Instances      Box(P          R      mAP50  mAP50-95): 100%|██████████| 1/1 [00:00<00:00, 82.81it/s]"
     ]
    },
    {
     "name": "stdout",
     "output_type": "stream",
     "text": [
      "                   all          5          0          0          0          0          0\n",
      "WARNING ⚠️ no labels found in detect set, can not compute metrics without labels\n"
     ]
    },
    {
     "name": "stderr",
     "output_type": "stream",
     "text": [
      "\n"
     ]
    },
    {
     "name": "stdout",
     "output_type": "stream",
     "text": [
      "\n",
      "      Epoch    GPU_mem   box_loss   cls_loss   dfl_loss  Instances       Size\n"
     ]
    },
    {
     "name": "stderr",
     "output_type": "stream",
     "text": [
      "        6/6      2.23G          0       98.7          0          0        640: 100%|██████████| 3/3 [00:00<00:00, 29.62it/s]\n",
      "                 Class     Images  Instances      Box(P          R      mAP50  mAP50-95): 100%|██████████| 1/1 [00:00<00:00, 85.66it/s]"
     ]
    },
    {
     "name": "stdout",
     "output_type": "stream",
     "text": [
      "                   all          5          0          0          0          0          0\n",
      "WARNING ⚠️ no labels found in detect set, can not compute metrics without labels\n"
     ]
    },
    {
     "name": "stderr",
     "output_type": "stream",
     "text": [
      "\n"
     ]
    },
    {
     "name": "stdout",
     "output_type": "stream",
     "text": [
      "\n",
      "6 epochs completed in 0.034 hours.\n",
      "Optimizer stripped from runs/detect/train4/weights/last.pt, 6.2MB\n",
      "Optimizer stripped from runs/detect/train4/weights/best.pt, 6.2MB\n",
      "\n",
      "Validating runs/detect/train4/weights/best.pt...\n",
      "Ultralytics YOLOv8.1.34 🚀 Python-3.9.19 torch-2.2.1 CUDA:0 (NVIDIA GeForce RTX 4090, 24209MiB)\n",
      "YOLOv8n summary (fused): 168 layers, 3005843 parameters, 0 gradients\n"
     ]
    },
    {
     "name": "stderr",
     "output_type": "stream",
     "text": [
      "                 Class     Images  Instances      Box(P          R      mAP50  mAP50-95): 100%|██████████| 1/1 [00:00<00:00, 113.18it/s]"
     ]
    },
    {
     "name": "stdout",
     "output_type": "stream",
     "text": [
      "                   all          5          0          0          0          0          0\n",
      "WARNING ⚠️ no labels found in detect set, can not compute metrics without labels\n"
     ]
    },
    {
     "name": "stderr",
     "output_type": "stream",
     "text": [
      "\n"
     ]
    },
    {
     "name": "stdout",
     "output_type": "stream",
     "text": [
      "Speed: 0.1ms preprocess, 0.6ms inference, 0.0ms loss, 0.6ms postprocess per image\n",
      "Results saved to \u001b[1mruns/detect/train4\u001b[0m\n"
     ]
    }
   ],
   "source": [
    "model = YOLO(\"yolov8n.yaml\").load(\"yolov8n.pt\")\n",
    "\n",
    "save_path = fio.createPath(fio.sep, [cwd, 'data', str(current_timestamp(False))])\n",
    "fio.ensure_dir(save_path)\n",
    "result = model.train(data=yaml_filepath, epochs=6, device=[0], save_dir=save_path)"
   ]
  },
  {
   "cell_type": "markdown",
   "metadata": {},
   "source": [
    "### 4. Visualise the training result"
   ]
  },
  {
   "cell_type": "code",
   "execution_count": 46,
   "metadata": {},
   "outputs": [
    {
     "name": "stdout",
     "output_type": "stream",
     "text": [
      "Ultralytics YOLOv8.1.34 🚀 Python-3.9.19 torch-2.2.1 CUDA:0 (NVIDIA GeForce RTX 4090, 24209MiB)\n",
      "YOLOv8n summary (fused): 168 layers, 3005843 parameters, 0 gradients\n"
     ]
    },
    {
     "name": "stderr",
     "output_type": "stream",
     "text": [
      "\u001b[34m\u001b[1mval: \u001b[0mScanning /home/siyanlinux/Documents/ISDN6380B_Homework/hw2/data/labels.cache... 0 images, 5 backgrounds, 0 corrupt: 100%|██████████| 5/5 [00:00<?\u001b[0m"
     ]
    },
    {
     "name": "stdout",
     "output_type": "stream",
     "text": [
      "WARNING ⚠️ No labels found in /home/siyanlinux/Documents/ISDN6380B_Homework/hw2/data/labels.cache, training may not work correctly. See https://docs.ultralytics.com/datasets/detect for dataset formatting guidance.\n"
     ]
    },
    {
     "name": "stderr",
     "output_type": "stream",
     "text": [
      "\n",
      "                 Class     Images  Instances      Box(P          R      mAP50  mAP50-95): 100%|██████████| 1/1 [00:00<00:00,  6.18it/s]"
     ]
    },
    {
     "name": "stdout",
     "output_type": "stream",
     "text": [
      "                   all          5          0          0          0          0          0\n",
      "WARNING ⚠️ no labels found in detect set, can not compute metrics without labels\n"
     ]
    },
    {
     "name": "stderr",
     "output_type": "stream",
     "text": [
      "\n"
     ]
    },
    {
     "name": "stdout",
     "output_type": "stream",
     "text": [
      "Speed: 0.1ms preprocess, 21.5ms inference, 0.0ms loss, 0.9ms postprocess per image\n",
      "Results saved to \u001b[1mruns/detect/train42\u001b[0m\n"
     ]
    },
    {
     "data": {
      "text/plain": [
       "0.0"
      ]
     },
     "execution_count": 46,
     "metadata": {},
     "output_type": "execute_result"
    }
   ],
   "source": [
    "metrics = model.val()\n",
    "metrics.box.map"
   ]
  },
  {
   "cell_type": "markdown",
   "metadata": {},
   "source": [
    "### 5. Prediction"
   ]
  },
  {
   "cell_type": "code",
   "execution_count": 48,
   "metadata": {},
   "outputs": [],
   "source": [
    "predict_image_folder = fio.createPath(fio.sep, [cwd, 'data_predict', 'Chessboard_test1'])\n",
    "predict_image_paths = fio.traverse_dir(predict_image_folder, full_path=True, towards_sub=False)\n",
    "predict_image_paths = fio.filter_ext(filepath_list=predict_image_paths, filter_out_target=False, ext_set=fio.img_ext_set)"
   ]
  },
  {
   "cell_type": "code",
   "execution_count": 50,
   "metadata": {},
   "outputs": [
    {
     "name": "stdout",
     "output_type": "stream",
     "text": [
      "\n",
      "0: 640x640 (no detections), 0.6ms\n",
      "1: 640x640 (no detections), 0.6ms\n",
      "2: 640x640 (no detections), 0.6ms\n",
      "3: 640x640 (no detections), 0.6ms\n",
      "4: 640x640 (no detections), 0.6ms\n",
      "5: 640x640 (no detections), 0.6ms\n",
      "6: 640x640 (no detections), 0.6ms\n",
      "7: 640x640 (no detections), 0.6ms\n",
      "8: 640x640 (no detections), 0.6ms\n",
      "9: 640x640 (no detections), 0.6ms\n",
      "10: 640x640 (no detections), 0.6ms\n",
      "11: 640x640 (no detections), 0.6ms\n",
      "12: 640x640 (no detections), 0.6ms\n",
      "13: 640x640 (no detections), 0.6ms\n",
      "14: 640x640 (no detections), 0.6ms\n",
      "15: 640x640 (no detections), 0.6ms\n",
      "16: 640x640 (no detections), 0.6ms\n",
      "17: 640x640 (no detections), 0.6ms\n",
      "18: 640x640 (no detections), 0.6ms\n",
      "19: 640x640 (no detections), 0.6ms\n",
      "20: 640x640 (no detections), 0.6ms\n",
      "21: 640x640 (no detections), 0.6ms\n",
      "22: 640x640 (no detections), 0.6ms\n",
      "23: 640x640 (no detections), 0.6ms\n",
      "24: 640x640 (no detections), 0.6ms\n",
      "25: 640x640 (no detections), 0.6ms\n",
      "26: 640x640 (no detections), 0.6ms\n",
      "27: 640x640 (no detections), 0.6ms\n",
      "28: 640x640 (no detections), 0.6ms\n",
      "29: 640x640 (no detections), 0.6ms\n",
      "30: 640x640 (no detections), 0.6ms\n",
      "31: 640x640 (no detections), 0.6ms\n",
      "32: 640x640 (no detections), 0.6ms\n",
      "33: 640x640 (no detections), 0.6ms\n",
      "34: 640x640 (no detections), 0.6ms\n",
      "35: 640x640 (no detections), 0.6ms\n",
      "36: 640x640 (no detections), 0.6ms\n",
      "37: 640x640 (no detections), 0.6ms\n",
      "38: 640x640 (no detections), 0.6ms\n",
      "39: 640x640 (no detections), 0.6ms\n",
      "40: 640x640 (no detections), 0.6ms\n",
      "41: 640x640 (no detections), 0.6ms\n",
      "Speed: 2.0ms preprocess, 0.6ms inference, 0.1ms postprocess per image at shape (1, 3, 640, 640)\n"
     ]
    },
    {
     "ename": "IndexError",
     "evalue": "list index out of range",
     "output_type": "error",
     "traceback": [
      "\u001b[0;31m---------------------------------------------------------------------------\u001b[0m",
      "\u001b[0;31mIndexError\u001b[0m                                Traceback (most recent call last)",
      "Cell \u001b[0;32mIn[50], line 12\u001b[0m\n\u001b[1;32m      9\u001b[0m keypoints \u001b[38;5;241m=\u001b[39m pred\u001b[38;5;241m.\u001b[39mkeypoints\n\u001b[1;32m     10\u001b[0m probs \u001b[38;5;241m=\u001b[39m pred\u001b[38;5;241m.\u001b[39mprobs\n\u001b[0;32m---> 12\u001b[0m original_image_path \u001b[38;5;241m=\u001b[39m \u001b[43mpredict_image_paths\u001b[49m\u001b[43m[\u001b[49m\u001b[43mi\u001b[49m\u001b[43m]\u001b[49m\n\u001b[1;32m     13\u001b[0m original_image_name \u001b[38;5;241m=\u001b[39m fio\u001b[38;5;241m.\u001b[39mget_filename_components(original_image_path)[\u001b[38;5;241m1\u001b[39m]\n\u001b[1;32m     14\u001b[0m probs_save_path \u001b[38;5;241m=\u001b[39m fio\u001b[38;5;241m.\u001b[39mcreatePath(fio\u001b[38;5;241m.\u001b[39msep, [save_path, \u001b[38;5;124m'\u001b[39m\u001b[38;5;124mpredictions\u001b[39m\u001b[38;5;124m'\u001b[39m], \u001b[38;5;28mstr\u001b[39m(original_image_name) \u001b[38;5;241m+\u001b[39m \u001b[38;5;124m'\u001b[39m\u001b[38;5;124m.jpg\u001b[39m\u001b[38;5;124m'\u001b[39m)\n",
      "\u001b[0;31mIndexError\u001b[0m: list index out of range"
     ]
    }
   ],
   "source": [
    "predictions = model(predict_image_paths)\n",
    "probs_save_dir = fio.createPath(fio.sep, [save_path], 'predictions')\n",
    "fio.ensure_dir(probs_save_dir)\n",
    "\n",
    "index = 0\n",
    "for pred in predictions:\n",
    "    box = pred.boxes\n",
    "    masks = pred.masks\n",
    "    keypoints = pred.keypoints\n",
    "    probs = pred.probs\n",
    "\n",
    "    original_image_path = predict_image_paths[index]\n",
    "    original_image_name = fio.get_filename_components(original_image_path)[1]\n",
    "    probs_save_path = fio.createPath(fio.sep, [save_path, 'predictions'], str(original_image_name) + '.jpg')\n",
    "    pred.save(probs_save_path)\n",
    "    index += 1"
   ]
  }
 ],
 "metadata": {
  "kernelspec": {
   "display_name": "Python 3 (ipykernel)",
   "language": "python",
   "name": "python3"
  }
 },
 "nbformat": 4,
 "nbformat_minor": 2
}
